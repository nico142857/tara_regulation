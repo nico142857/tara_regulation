{
 "cells": [
  {
   "cell_type": "code",
   "execution_count": 7,
   "id": "f4974396-4c1b-49ae-ae86-54f4b59dd1ab",
   "metadata": {},
   "outputs": [],
   "source": [
    "import pandas as pd\n",
    "import os\n",
    "\n",
    "# List of matrix types\n",
    "matrix_types = ['salazar', 'stress']\n",
    "\n",
    "for matrix_type in matrix_types:\n",
    "    input_dir = f'reg_genes_{matrix_type}_by_TF'\n",
    "    output_dir = f'reg_genes_{matrix_type}_by_TF_transpose'\n",
    "    \n",
    "    # Ensure the output directory exists\n",
    "    os.makedirs(output_dir, exist_ok=True)\n",
    "    \n",
    "    # Check if input directory exists to avoid errors\n",
    "    if os.path.exists(input_dir):\n",
    "        # Loop through each file in the input directory\n",
    "        for filename in os.listdir(input_dir):\n",
    "            if filename.startswith(\"reg_genes_\") and filename.endswith(\".tsv\"):\n",
    "                # Read the file\n",
    "                df = pd.read_csv(f'{input_dir}/{filename}', sep='\\t', index_col=0)\n",
    "                \n",
    "                # Transpose the dataframe\n",
    "                df = df.transpose()\n",
    "                \n",
    "                # Save the transposed dataframe to the output directory\n",
    "                df.to_csv(f'{output_dir}/{filename}', sep='\\t')\n",
    "    else:\n",
    "        print(f\"Directory {input_dir} does not exist.\")\n"
   ]
  }
 ],
 "metadata": {
  "kernelspec": {
   "display_name": "Python 3 (ipykernel)",
   "language": "python",
   "name": "python3"
  },
  "language_info": {
   "codemirror_mode": {
    "name": "ipython",
    "version": 3
   },
   "file_extension": ".py",
   "mimetype": "text/x-python",
   "name": "python",
   "nbconvert_exporter": "python",
   "pygments_lexer": "ipython3",
   "version": "3.9.18"
  }
 },
 "nbformat": 4,
 "nbformat_minor": 5
}
